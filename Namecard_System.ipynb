{
  "nbformat": 4,
  "nbformat_minor": 0,
  "metadata": {
    "colab": {
      "name": "Namecard_System",
      "provenance": [],
      "authorship_tag": "ABX9TyMFsP/C5DjrSSwoAiYl1RH6",
      "include_colab_link": true
    },
    "kernelspec": {
      "name": "python3",
      "display_name": "Python 3"
    },
    "language_info": {
      "name": "python"
    }
  },
  "cells": [
    {
      "cell_type": "markdown",
      "metadata": {
        "id": "view-in-github",
        "colab_type": "text"
      },
      "source": [
        "<a href=\"https://colab.research.google.com/github/DanialCyr/Python_Practice/blob/main/Namecard_System.ipynb\" target=\"_parent\"><img src=\"https://colab.research.google.com/assets/colab-badge.svg\" alt=\"Open In Colab\"/></a>"
      ]
    },
    {
      "cell_type": "code",
      "metadata": {
        "id": "95hlob1qBzus"
      },
      "source": [
        "Card_list = [{\"Name\":\"Zar\",\"Birthday\":\"20080712\",\"Wechat\":\"wzr712\"},\n",
        "       {\"Name\":\"Cyr\",\"Birthday\":\"20080402\",\"Wechat\":\"lcj842\"}]\n",
        "\n",
        "def main_menu():\n",
        "  print(\"=\" * 70)\n",
        "  print('\\t\\tWelcome To Namecard System V1.0')\n",
        "  print(\"\\t\\t\\t1. Add Namecard\")\n",
        "  print(\"\\t\\t\\t2. View Namecards\")\n",
        "  print(\"\\t\\t\\t3. Search Namecard\")\n",
        "  print(\"\\t\\t\\t4. Exit Menu\")\n",
        "  print(\"=\" * 70)\n",
        "\n",
        "def add_card():\n",
        "  name = input(\"What's your name?\")\n",
        "  birthday = input(\"When's your birthday?\")\n",
        "  Wechat = input(\"What's your Wechat ID?\")\n",
        "  new_dict = {\"Name\":name,\"Birthday\":birthday,\"Wechat\":Wechat}\n",
        "  Card_list.append(new_dict)\n",
        "\n",
        "def show_cards(which_list,title):\n",
        "  print(\"=\" * 50)\n",
        "  print(\"\\t\\t%s\" %(title))\n",
        "  print(\"Name\\t\\tBirthday\\t\\tWechat\")\n",
        "  print(\"-\" * 50)\n",
        "  for card_dict in which_list:\n",
        "    print(\"%s\\t\\t%s\\t\\t%s\" %(card_dict[\"Name\"],\n",
        "                card_dict[\"Birthday\"],\n",
        "                card_dict[\"Wechat\"]))\n",
        "\n",
        "def update_card(info,old_value):\n",
        "  new_value = input(\"What's your new %s\" %info)\n",
        "  if len(new_value) > 0:\n",
        "    return new_value\n",
        "  else:\n",
        "    return old_value\n",
        "\n",
        "def manage_card(card_list,card_dict):\n",
        "  option = int(input(\"[1]Delete Card [2]Update Card [3]Return to Menu\"))\n",
        "  if option == 1:\n",
        "    Card_list.remove(card_dict)\n",
        "    print(\"Namecard successfully deleted.\")\n",
        "  elif option == 2:\n",
        "    new_name = update_card(\"name\",card_dict[\"Name\"])\n",
        "    new_birthday = update_card(\"birthday\",card_dict[\"Birthday\"])\n",
        "    new_wechat = update_card(\"wechat\",card_dict[\"Wechat\"])\n",
        "    print(\"Namecard successfully updated!\")\n",
        "  elif option == 3:\n",
        "    pass\n",
        "  else:\n",
        "    print(\"Input error! Please try again.\")\n",
        "    manage_card(card_list,card_dict)\n",
        "\n",
        "\n",
        "def search_card(Card_list):\n",
        "  name = input(\"Whose namecard do you want to search for?\")\n",
        "  for card_dict in Card_list:\n",
        "    #print(\"name:%s,card_dict[Name]:%s\" %(name,card_dict[\"Name\"]))\n",
        "    if name == card_dict[\"Name\"]:\n",
        "      card_list = [card_dict]\n",
        "      show_cards(card_list,\"%s's Namecard\" %card_dict[\"Name\"])\n",
        "      manage_card(card_list,card_dict)\n",
        "      break\n",
        "  else:\n",
        "    print(\"The namecard you search for does not exist, please try again.\")\n",
        "    search_card(Card_list)\n",
        "\n",
        "\n",
        "def main():\n",
        "  while True:\n",
        "    main_menu()\n",
        "    instruction = input(\"Please input your instruction.\")\n",
        "    if instruction == \"1\":\n",
        "      add_card()\n",
        "    elif instruction == \"2\":\n",
        "      show_cards(Card_list,\"Showing All Namecards\")\n",
        "    elif instruction == \"3\":\n",
        "      search_card(Card_list)\n",
        "    elif instruction == \"4\":\n",
        "      break\n",
        "    else:\n",
        "      print(\"Invalid instruction, please try again.\")\n",
        "main()"
      ],
      "execution_count": null,
      "outputs": []
    }
  ]
}